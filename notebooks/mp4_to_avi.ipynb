{
 "cells": [
  {
   "cell_type": "code",
   "execution_count": 3,
   "metadata": {},
   "outputs": [],
   "source": [
    "import os\n",
    "import subprocess\n",
    "from tqdm import tqdm\n",
    "\n",
    "def convert_to_avi(source_path, target_path):\n",
    "    \"\"\" Конвертирует видеофайл в формат AVI с помощью FFmpeg. \"\"\"\n",
    "    command = ['ffmpeg', '-i', source_path, '-c:v', 'libx264', '-c:a', 'copy', target_path]\n",
    "    try:\n",
    "        subprocess.run(command, stdout=subprocess.PIPE, stderr=subprocess.PIPE, check=True)\n",
    "        os.remove(source_path)  # Удаление исходного файла после конвертации\n",
    "        print(f\"Конвертировано и удалено исходное: {target_path}\")\n",
    "    except subprocess.CalledProcessError as e:\n",
    "        print(f\"Ошибка при конвертации {source_path}: {e}\")\n",
    "\n",
    "def scan_and_convert_directory(directory):\n",
    "    \"\"\" Сканирует директорию и конвертирует все MP4 видео в AVI. \"\"\"\n",
    "    files_to_convert = [os.path.join(root, file) for root, dirs, files in os.walk(directory) for file in files if file.endswith('.mp4')]\n",
    "    for file_path in tqdm(files_to_convert, desc=\"Конвертация видео\"):\n",
    "        target_path = file_path.rsplit('.', 1)[0] + '.avi'\n",
    "        if not os.path.exists(target_path):  # Проверяем, не было ли уже выполнено преобразование\n",
    "            convert_to_avi(file_path, target_path)"
   ]
  },
  {
   "cell_type": "code",
   "execution_count": 4,
   "metadata": {},
   "outputs": [
    {
     "name": "stderr",
     "output_type": "stream",
     "text": [
      "Конвертация видео:   0%|          | 1/788 [00:06<1:19:30,  6.06s/it]"
     ]
    },
    {
     "name": "stdout",
     "output_type": "stream",
     "text": [
      "Конвертировано и удалено исходное: /home/myashka/dl_programming_tech/coin_dataset_classification/data/videos/train/NursingandCare/C0vxX1Q-QBE.avi\n"
     ]
    },
    {
     "name": "stderr",
     "output_type": "stream",
     "text": [
      "Конвертация видео:   0%|          | 2/788 [00:10<1:09:50,  5.33s/it]"
     ]
    },
    {
     "name": "stdout",
     "output_type": "stream",
     "text": [
      "Конвертировано и удалено исходное: /home/myashka/dl_programming_tech/coin_dataset_classification/data/videos/train/NursingandCare/mRT0Va0BQH8.avi\n"
     ]
    },
    {
     "name": "stderr",
     "output_type": "stream",
     "text": [
      "Конвертация видео:   0%|          | 3/788 [00:14<1:00:31,  4.63s/it]"
     ]
    },
    {
     "name": "stdout",
     "output_type": "stream",
     "text": [
      "Конвертировано и удалено исходное: /home/myashka/dl_programming_tech/coin_dataset_classification/data/videos/train/NursingandCare/HCi6woEfxB0.avi\n"
     ]
    },
    {
     "name": "stderr",
     "output_type": "stream",
     "text": [
      "Конвертация видео:   1%|          | 4/788 [00:24<1:25:39,  6.55s/it]"
     ]
    },
    {
     "name": "stdout",
     "output_type": "stream",
     "text": [
      "Конвертировано и удалено исходное: /home/myashka/dl_programming_tech/coin_dataset_classification/data/videos/train/NursingandCare/rYLv6sWwCis.avi\n"
     ]
    },
    {
     "name": "stderr",
     "output_type": "stream",
     "text": [
      "Конвертация видео:   1%|          | 5/788 [00:31<1:27:56,  6.74s/it]"
     ]
    },
    {
     "name": "stdout",
     "output_type": "stream",
     "text": [
      "Конвертировано и удалено исходное: /home/myashka/dl_programming_tech/coin_dataset_classification/data/videos/train/NursingandCare/sHfozG2_9E4.avi\n"
     ]
    },
    {
     "name": "stderr",
     "output_type": "stream",
     "text": [
      "Конвертация видео:   1%|          | 6/788 [00:53<2:36:03, 11.97s/it]"
     ]
    },
    {
     "name": "stdout",
     "output_type": "stream",
     "text": [
      "Конвертировано и удалено исходное: /home/myashka/dl_programming_tech/coin_dataset_classification/data/videos/train/NursingandCare/LR0spZxP_JQ.avi\n"
     ]
    },
    {
     "name": "stderr",
     "output_type": "stream",
     "text": [
      "Конвертация видео:   1%|          | 7/788 [00:56<1:57:09,  9.00s/it]"
     ]
    },
    {
     "name": "stdout",
     "output_type": "stream",
     "text": [
      "Конвертировано и удалено исходное: /home/myashka/dl_programming_tech/coin_dataset_classification/data/videos/train/NursingandCare/iCsFgE036P0.avi\n"
     ]
    },
    {
     "name": "stderr",
     "output_type": "stream",
     "text": [
      "Конвертация видео:   1%|          | 8/788 [00:57<1:25:00,  6.54s/it]"
     ]
    },
    {
     "name": "stdout",
     "output_type": "stream",
     "text": [
      "Конвертировано и удалено исходное: /home/myashka/dl_programming_tech/coin_dataset_classification/data/videos/train/NursingandCare/BNXqv8lvGqU.avi\n"
     ]
    },
    {
     "name": "stderr",
     "output_type": "stream",
     "text": [
      "Конвертация видео:   1%|          | 9/788 [01:19<2:25:44, 11.23s/it]"
     ]
    },
    {
     "name": "stdout",
     "output_type": "stream",
     "text": [
      "Конвертировано и удалено исходное: /home/myashka/dl_programming_tech/coin_dataset_classification/data/videos/train/NursingandCare/Z5DhP01WZjk.avi\n"
     ]
    },
    {
     "name": "stderr",
     "output_type": "stream",
     "text": [
      "Конвертация видео:   1%|▏         | 10/788 [01:32<2:35:24, 11.99s/it]"
     ]
    },
    {
     "name": "stdout",
     "output_type": "stream",
     "text": [
      "Конвертировано и удалено исходное: /home/myashka/dl_programming_tech/coin_dataset_classification/data/videos/train/NursingandCare/hz-q9z0c8D8.avi\n"
     ]
    },
    {
     "name": "stderr",
     "output_type": "stream",
     "text": [
      "Конвертация видео:   1%|▏         | 11/788 [01:39<2:16:02, 10.51s/it]"
     ]
    },
    {
     "name": "stdout",
     "output_type": "stream",
     "text": [
      "Конвертировано и удалено исходное: /home/myashka/dl_programming_tech/coin_dataset_classification/data/videos/train/NursingandCare/fEpYEiEYc5U.avi\n"
     ]
    },
    {
     "name": "stderr",
     "output_type": "stream",
     "text": [
      "Конвертация видео:   2%|▏         | 12/788 [01:59<2:52:46, 13.36s/it]"
     ]
    },
    {
     "name": "stdout",
     "output_type": "stream",
     "text": [
      "Конвертировано и удалено исходное: /home/myashka/dl_programming_tech/coin_dataset_classification/data/videos/train/NursingandCare/9O63JaEPrTA.avi\n"
     ]
    },
    {
     "name": "stderr",
     "output_type": "stream",
     "text": [
      "Конвертация видео:   2%|▏         | 13/788 [02:26<3:45:30, 17.46s/it]"
     ]
    },
    {
     "name": "stdout",
     "output_type": "stream",
     "text": [
      "Конвертировано и удалено исходное: /home/myashka/dl_programming_tech/coin_dataset_classification/data/videos/train/NursingandCare/fiuyq608E80.avi\n"
     ]
    },
    {
     "name": "stderr",
     "output_type": "stream",
     "text": [
      "Конвертация видео:   2%|▏         | 14/788 [02:55<4:30:10, 20.94s/it]"
     ]
    },
    {
     "name": "stdout",
     "output_type": "stream",
     "text": [
      "Конвертировано и удалено исходное: /home/myashka/dl_programming_tech/coin_dataset_classification/data/videos/train/NursingandCare/MdBUZn1PG58.avi\n"
     ]
    },
    {
     "name": "stderr",
     "output_type": "stream",
     "text": [
      "Конвертация видео:   2%|▏         | 15/788 [03:10<4:05:01, 19.02s/it]"
     ]
    },
    {
     "name": "stdout",
     "output_type": "stream",
     "text": [
      "Конвертировано и удалено исходное: /home/myashka/dl_programming_tech/coin_dataset_classification/data/videos/train/NursingandCare/yzQJs71JXyQ.avi\n"
     ]
    },
    {
     "name": "stderr",
     "output_type": "stream",
     "text": [
      "Конвертация видео:   2%|▏         | 16/788 [03:29<4:03:47, 18.95s/it]"
     ]
    },
    {
     "name": "stdout",
     "output_type": "stream",
     "text": [
      "Конвертировано и удалено исходное: /home/myashka/dl_programming_tech/coin_dataset_classification/data/videos/train/NursingandCare/f2JL7Tp_NZk.avi\n"
     ]
    },
    {
     "name": "stderr",
     "output_type": "stream",
     "text": [
      "Конвертация видео:   2%|▏         | 17/788 [04:01<4:57:39, 23.16s/it]"
     ]
    },
    {
     "name": "stdout",
     "output_type": "stream",
     "text": [
      "Конвертировано и удалено исходное: /home/myashka/dl_programming_tech/coin_dataset_classification/data/videos/train/NursingandCare/pjRY9d1Ua7k.avi\n"
     ]
    },
    {
     "name": "stderr",
     "output_type": "stream",
     "text": [
      "Конвертация видео:   2%|▏         | 18/788 [04:13<4:10:57, 19.55s/it]"
     ]
    },
    {
     "name": "stdout",
     "output_type": "stream",
     "text": [
      "Конвертировано и удалено исходное: /home/myashka/dl_programming_tech/coin_dataset_classification/data/videos/train/NursingandCare/CwJ5yjfCXg8.avi\n"
     ]
    },
    {
     "name": "stderr",
     "output_type": "stream",
     "text": [
      "Конвертация видео:   2%|▏         | 19/788 [04:35<4:20:25, 20.32s/it]"
     ]
    },
    {
     "name": "stdout",
     "output_type": "stream",
     "text": [
      "Конвертировано и удалено исходное: /home/myashka/dl_programming_tech/coin_dataset_classification/data/videos/train/NursingandCare/swLbu9VWeH0.avi\n"
     ]
    },
    {
     "name": "stderr",
     "output_type": "stream",
     "text": [
      "Конвертация видео:   3%|▎         | 20/788 [04:37<3:11:33, 14.97s/it]"
     ]
    },
    {
     "name": "stdout",
     "output_type": "stream",
     "text": [
      "Конвертировано и удалено исходное: /home/myashka/dl_programming_tech/coin_dataset_classification/data/videos/train/NursingandCare/EFlYhMrnKHE.avi\n"
     ]
    },
    {
     "name": "stderr",
     "output_type": "stream",
     "text": [
      "Конвертация видео:   3%|▎         | 21/788 [05:09<4:15:22, 19.98s/it]"
     ]
    },
    {
     "name": "stdout",
     "output_type": "stream",
     "text": [
      "Конвертировано и удалено исходное: /home/myashka/dl_programming_tech/coin_dataset_classification/data/videos/train/NursingandCare/_Fm8NYPDQI4.avi\n"
     ]
    },
    {
     "name": "stderr",
     "output_type": "stream",
     "text": [
      "Конвертация видео:   3%|▎         | 22/788 [05:11<3:07:40, 14.70s/it]"
     ]
    },
    {
     "name": "stdout",
     "output_type": "stream",
     "text": [
      "Конвертировано и удалено исходное: /home/myashka/dl_programming_tech/coin_dataset_classification/data/videos/train/NursingandCare/peJfJXWzZeY.avi\n"
     ]
    },
    {
     "name": "stderr",
     "output_type": "stream",
     "text": [
      "Конвертация видео:   3%|▎         | 23/788 [05:48<4:33:02, 21.41s/it]"
     ]
    },
    {
     "name": "stdout",
     "output_type": "stream",
     "text": [
      "Конвертировано и удалено исходное: /home/myashka/dl_programming_tech/coin_dataset_classification/data/videos/train/NursingandCare/G8XJlr6BupU.avi\n"
     ]
    },
    {
     "name": "stderr",
     "output_type": "stream",
     "text": [
      "Конвертация видео:   3%|▎         | 24/788 [06:01<3:58:13, 18.71s/it]"
     ]
    },
    {
     "name": "stdout",
     "output_type": "stream",
     "text": [
      "Конвертировано и удалено исходное: /home/myashka/dl_programming_tech/coin_dataset_classification/data/videos/train/NursingandCare/65yFZg63NbM.avi\n"
     ]
    },
    {
     "name": "stderr",
     "output_type": "stream",
     "text": [
      "Конвертация видео:   3%|▎         | 25/788 [06:04<2:59:27, 14.11s/it]"
     ]
    },
    {
     "name": "stdout",
     "output_type": "stream",
     "text": [
      "Конвертировано и удалено исходное: /home/myashka/dl_programming_tech/coin_dataset_classification/data/videos/train/NursingandCare/cKVO3tDdFFQ.avi\n"
     ]
    },
    {
     "name": "stderr",
     "output_type": "stream",
     "text": [
      "Конвертация видео:   3%|▎         | 26/788 [06:17<2:53:41, 13.68s/it]"
     ]
    },
    {
     "name": "stdout",
     "output_type": "stream",
     "text": [
      "Конвертировано и удалено исходное: /home/myashka/dl_programming_tech/coin_dataset_classification/data/videos/train/NursingandCare/-9oqHVK5-5c.avi\n"
     ]
    },
    {
     "name": "stderr",
     "output_type": "stream",
     "text": [
      "Конвертация видео:   3%|▎         | 27/788 [06:31<2:56:44, 13.94s/it]"
     ]
    },
    {
     "name": "stdout",
     "output_type": "stream",
     "text": [
      "Конвертировано и удалено исходное: /home/myashka/dl_programming_tech/coin_dataset_classification/data/videos/train/NursingandCare/3QQc-VBIa-M.avi\n"
     ]
    },
    {
     "name": "stderr",
     "output_type": "stream",
     "text": [
      "Конвертация видео:   4%|▎         | 28/788 [06:51<3:18:39, 15.68s/it]"
     ]
    },
    {
     "name": "stdout",
     "output_type": "stream",
     "text": [
      "Конвертировано и удалено исходное: /home/myashka/dl_programming_tech/coin_dataset_classification/data/videos/train/NursingandCare/JTUT3hkEsIk.avi\n"
     ]
    },
    {
     "name": "stderr",
     "output_type": "stream",
     "text": [
      "Конвертация видео:   4%|▎         | 29/788 [07:00<2:52:21, 13.62s/it]"
     ]
    },
    {
     "name": "stdout",
     "output_type": "stream",
     "text": [
      "Конвертировано и удалено исходное: /home/myashka/dl_programming_tech/coin_dataset_classification/data/videos/train/NursingandCare/NZoiGxOlSrg.avi\n"
     ]
    },
    {
     "name": "stderr",
     "output_type": "stream",
     "text": [
      "Конвертация видео:   4%|▍         | 30/788 [07:21<3:18:35, 15.72s/it]"
     ]
    },
    {
     "name": "stdout",
     "output_type": "stream",
     "text": [
      "Конвертировано и удалено исходное: /home/myashka/dl_programming_tech/coin_dataset_classification/data/videos/train/NursingandCare/iTQy9x0bztM.avi\n"
     ]
    },
    {
     "name": "stderr",
     "output_type": "stream",
     "text": [
      "Конвертация видео:   4%|▍         | 30/788 [07:21<3:05:53, 14.71s/it]\n"
     ]
    },
    {
     "ename": "KeyboardInterrupt",
     "evalue": "",
     "output_type": "error",
     "traceback": [
      "\u001b[0;31m---------------------------------------------------------------------------\u001b[0m",
      "\u001b[0;31mKeyboardInterrupt\u001b[0m                         Traceback (most recent call last)",
      "\u001b[1;32m/home/myashka/dl_programming_tech/coin_dataset_classification/notebooks/mp4_to_avi.ipynb Cell 2\u001b[0m line \u001b[0;36m1\n\u001b[0;32m----> <a href='vscode-notebook-cell://wsl%2Bubuntu/home/myashka/dl_programming_tech/coin_dataset_classification/notebooks/mp4_to_avi.ipynb#W1sdnNjb2RlLXJlbW90ZQ%3D%3D?line=0'>1</a>\u001b[0m scan_and_convert_directory(\u001b[39m'\u001b[39;49m\u001b[39m/home/myashka/dl_programming_tech/coin_dataset_classification/data/videos/train\u001b[39;49m\u001b[39m'\u001b[39;49m)\n",
      "\u001b[1;32m/home/myashka/dl_programming_tech/coin_dataset_classification/notebooks/mp4_to_avi.ipynb Cell 2\u001b[0m line \u001b[0;36m2\n\u001b[1;32m     <a href='vscode-notebook-cell://wsl%2Bubuntu/home/myashka/dl_programming_tech/coin_dataset_classification/notebooks/mp4_to_avi.ipynb#W1sdnNjb2RlLXJlbW90ZQ%3D%3D?line=18'>19</a>\u001b[0m target_path \u001b[39m=\u001b[39m file_path\u001b[39m.\u001b[39mrsplit(\u001b[39m'\u001b[39m\u001b[39m.\u001b[39m\u001b[39m'\u001b[39m, \u001b[39m1\u001b[39m)[\u001b[39m0\u001b[39m] \u001b[39m+\u001b[39m \u001b[39m'\u001b[39m\u001b[39m.avi\u001b[39m\u001b[39m'\u001b[39m\n\u001b[1;32m     <a href='vscode-notebook-cell://wsl%2Bubuntu/home/myashka/dl_programming_tech/coin_dataset_classification/notebooks/mp4_to_avi.ipynb#W1sdnNjb2RlLXJlbW90ZQ%3D%3D?line=19'>20</a>\u001b[0m \u001b[39mif\u001b[39;00m \u001b[39mnot\u001b[39;00m os\u001b[39m.\u001b[39mpath\u001b[39m.\u001b[39mexists(target_path):  \u001b[39m# Проверяем, не было ли уже выполнено преобразование\u001b[39;00m\n\u001b[0;32m---> <a href='vscode-notebook-cell://wsl%2Bubuntu/home/myashka/dl_programming_tech/coin_dataset_classification/notebooks/mp4_to_avi.ipynb#W1sdnNjb2RlLXJlbW90ZQ%3D%3D?line=20'>21</a>\u001b[0m     convert_to_avi(file_path, target_path)\n",
      "\u001b[1;32m/home/myashka/dl_programming_tech/coin_dataset_classification/notebooks/mp4_to_avi.ipynb Cell 2\u001b[0m line \u001b[0;36m9\n\u001b[1;32m      <a href='vscode-notebook-cell://wsl%2Bubuntu/home/myashka/dl_programming_tech/coin_dataset_classification/notebooks/mp4_to_avi.ipynb#W1sdnNjb2RlLXJlbW90ZQ%3D%3D?line=6'>7</a>\u001b[0m command \u001b[39m=\u001b[39m [\u001b[39m'\u001b[39m\u001b[39mffmpeg\u001b[39m\u001b[39m'\u001b[39m, \u001b[39m'\u001b[39m\u001b[39m-i\u001b[39m\u001b[39m'\u001b[39m, source_path, \u001b[39m'\u001b[39m\u001b[39m-c:v\u001b[39m\u001b[39m'\u001b[39m, \u001b[39m'\u001b[39m\u001b[39mlibx264\u001b[39m\u001b[39m'\u001b[39m, \u001b[39m'\u001b[39m\u001b[39m-c:a\u001b[39m\u001b[39m'\u001b[39m, \u001b[39m'\u001b[39m\u001b[39mcopy\u001b[39m\u001b[39m'\u001b[39m, target_path]\n\u001b[1;32m      <a href='vscode-notebook-cell://wsl%2Bubuntu/home/myashka/dl_programming_tech/coin_dataset_classification/notebooks/mp4_to_avi.ipynb#W1sdnNjb2RlLXJlbW90ZQ%3D%3D?line=7'>8</a>\u001b[0m \u001b[39mtry\u001b[39;00m:\n\u001b[0;32m----> <a href='vscode-notebook-cell://wsl%2Bubuntu/home/myashka/dl_programming_tech/coin_dataset_classification/notebooks/mp4_to_avi.ipynb#W1sdnNjb2RlLXJlbW90ZQ%3D%3D?line=8'>9</a>\u001b[0m     subprocess\u001b[39m.\u001b[39;49mrun(command, stdout\u001b[39m=\u001b[39;49msubprocess\u001b[39m.\u001b[39;49mPIPE, stderr\u001b[39m=\u001b[39;49msubprocess\u001b[39m.\u001b[39;49mPIPE, check\u001b[39m=\u001b[39;49m\u001b[39mTrue\u001b[39;49;00m)\n\u001b[1;32m     <a href='vscode-notebook-cell://wsl%2Bubuntu/home/myashka/dl_programming_tech/coin_dataset_classification/notebooks/mp4_to_avi.ipynb#W1sdnNjb2RlLXJlbW90ZQ%3D%3D?line=9'>10</a>\u001b[0m     os\u001b[39m.\u001b[39mremove(source_path)  \u001b[39m# Удаление исходного файла после конвертации\u001b[39;00m\n\u001b[1;32m     <a href='vscode-notebook-cell://wsl%2Bubuntu/home/myashka/dl_programming_tech/coin_dataset_classification/notebooks/mp4_to_avi.ipynb#W1sdnNjb2RlLXJlbW90ZQ%3D%3D?line=10'>11</a>\u001b[0m     \u001b[39mprint\u001b[39m(\u001b[39mf\u001b[39m\u001b[39m\"\u001b[39m\u001b[39mКонвертировано и удалено исходное: \u001b[39m\u001b[39m{\u001b[39;00mtarget_path\u001b[39m}\u001b[39;00m\u001b[39m\"\u001b[39m)\n",
      "File \u001b[0;32m~/miniconda3/envs/dl_tech/lib/python3.11/subprocess.py:550\u001b[0m, in \u001b[0;36mrun\u001b[0;34m(input, capture_output, timeout, check, *popenargs, **kwargs)\u001b[0m\n\u001b[1;32m    548\u001b[0m \u001b[39mwith\u001b[39;00m Popen(\u001b[39m*\u001b[39mpopenargs, \u001b[39m*\u001b[39m\u001b[39m*\u001b[39mkwargs) \u001b[39mas\u001b[39;00m process:\n\u001b[1;32m    549\u001b[0m     \u001b[39mtry\u001b[39;00m:\n\u001b[0;32m--> 550\u001b[0m         stdout, stderr \u001b[39m=\u001b[39m process\u001b[39m.\u001b[39;49mcommunicate(\u001b[39minput\u001b[39;49m, timeout\u001b[39m=\u001b[39;49mtimeout)\n\u001b[1;32m    551\u001b[0m     \u001b[39mexcept\u001b[39;00m TimeoutExpired \u001b[39mas\u001b[39;00m exc:\n\u001b[1;32m    552\u001b[0m         process\u001b[39m.\u001b[39mkill()\n",
      "File \u001b[0;32m~/miniconda3/envs/dl_tech/lib/python3.11/subprocess.py:1209\u001b[0m, in \u001b[0;36mPopen.communicate\u001b[0;34m(self, input, timeout)\u001b[0m\n\u001b[1;32m   1206\u001b[0m     endtime \u001b[39m=\u001b[39m \u001b[39mNone\u001b[39;00m\n\u001b[1;32m   1208\u001b[0m \u001b[39mtry\u001b[39;00m:\n\u001b[0;32m-> 1209\u001b[0m     stdout, stderr \u001b[39m=\u001b[39m \u001b[39mself\u001b[39;49m\u001b[39m.\u001b[39;49m_communicate(\u001b[39minput\u001b[39;49m, endtime, timeout)\n\u001b[1;32m   1210\u001b[0m \u001b[39mexcept\u001b[39;00m \u001b[39mKeyboardInterrupt\u001b[39;00m:\n\u001b[1;32m   1211\u001b[0m     \u001b[39m# https://bugs.python.org/issue25942\u001b[39;00m\n\u001b[1;32m   1212\u001b[0m     \u001b[39m# See the detailed comment in .wait().\u001b[39;00m\n\u001b[1;32m   1213\u001b[0m     \u001b[39mif\u001b[39;00m timeout \u001b[39mis\u001b[39;00m \u001b[39mnot\u001b[39;00m \u001b[39mNone\u001b[39;00m:\n",
      "File \u001b[0;32m~/miniconda3/envs/dl_tech/lib/python3.11/subprocess.py:2108\u001b[0m, in \u001b[0;36mPopen._communicate\u001b[0;34m(self, input, endtime, orig_timeout)\u001b[0m\n\u001b[1;32m   2101\u001b[0m     \u001b[39mself\u001b[39m\u001b[39m.\u001b[39m_check_timeout(endtime, orig_timeout,\n\u001b[1;32m   2102\u001b[0m                         stdout, stderr,\n\u001b[1;32m   2103\u001b[0m                         skip_check_and_raise\u001b[39m=\u001b[39m\u001b[39mTrue\u001b[39;00m)\n\u001b[1;32m   2104\u001b[0m     \u001b[39mraise\u001b[39;00m \u001b[39mRuntimeError\u001b[39;00m(  \u001b[39m# Impossible :)\u001b[39;00m\n\u001b[1;32m   2105\u001b[0m         \u001b[39m'\u001b[39m\u001b[39m_check_timeout(..., skip_check_and_raise=True) \u001b[39m\u001b[39m'\u001b[39m\n\u001b[1;32m   2106\u001b[0m         \u001b[39m'\u001b[39m\u001b[39mfailed to raise TimeoutExpired.\u001b[39m\u001b[39m'\u001b[39m)\n\u001b[0;32m-> 2108\u001b[0m ready \u001b[39m=\u001b[39m selector\u001b[39m.\u001b[39;49mselect(timeout)\n\u001b[1;32m   2109\u001b[0m \u001b[39mself\u001b[39m\u001b[39m.\u001b[39m_check_timeout(endtime, orig_timeout, stdout, stderr)\n\u001b[1;32m   2111\u001b[0m \u001b[39m# XXX Rewrite these to use non-blocking I/O on the file\u001b[39;00m\n\u001b[1;32m   2112\u001b[0m \u001b[39m# objects; they are no longer using C stdio!\u001b[39;00m\n",
      "File \u001b[0;32m~/miniconda3/envs/dl_tech/lib/python3.11/selectors.py:415\u001b[0m, in \u001b[0;36m_PollLikeSelector.select\u001b[0;34m(self, timeout)\u001b[0m\n\u001b[1;32m    413\u001b[0m ready \u001b[39m=\u001b[39m []\n\u001b[1;32m    414\u001b[0m \u001b[39mtry\u001b[39;00m:\n\u001b[0;32m--> 415\u001b[0m     fd_event_list \u001b[39m=\u001b[39m \u001b[39mself\u001b[39m\u001b[39m.\u001b[39m_selector\u001b[39m.\u001b[39mpoll(timeout)\n\u001b[1;32m    416\u001b[0m \u001b[39mexcept\u001b[39;00m \u001b[39mInterruptedError\u001b[39;00m:\n\u001b[1;32m    417\u001b[0m     \u001b[39mreturn\u001b[39;00m ready\n",
      "\u001b[0;31mKeyboardInterrupt\u001b[0m: "
     ]
    }
   ],
   "source": [
    "scan_and_convert_directory('/home/myashka/dl_programming_tech/coin_dataset_classification/data/videos/val')"
   ]
  },
  {
   "cell_type": "code",
   "execution_count": null,
   "metadata": {},
   "outputs": [
    {
     "data": {
      "text/plain": [
       "VideoMAEForVideoClassification(\n",
       "  (videomae): VideoMAEModel(\n",
       "    (embeddings): VideoMAEEmbeddings(\n",
       "      (patch_embeddings): VideoMAEPatchEmbeddings(\n",
       "        (projection): Conv3d(3, 768, kernel_size=(2, 16, 16), stride=(2, 16, 16))\n",
       "      )\n",
       "    )\n",
       "    (encoder): VideoMAEEncoder(\n",
       "      (layer): ModuleList(\n",
       "        (0-11): 12 x VideoMAELayer(\n",
       "          (attention): VideoMAEAttention(\n",
       "            (attention): VideoMAESelfAttention(\n",
       "              (query): Linear(in_features=768, out_features=768, bias=False)\n",
       "              (key): Linear(in_features=768, out_features=768, bias=False)\n",
       "              (value): Linear(in_features=768, out_features=768, bias=False)\n",
       "              (dropout): Dropout(p=0.0, inplace=False)\n",
       "            )\n",
       "            (output): VideoMAESelfOutput(\n",
       "              (dense): Linear(in_features=768, out_features=768, bias=True)\n",
       "              (dropout): Dropout(p=0.0, inplace=False)\n",
       "            )\n",
       "          )\n",
       "          (intermediate): VideoMAEIntermediate(\n",
       "            (dense): Linear(in_features=768, out_features=3072, bias=True)\n",
       "            (intermediate_act_fn): GELUActivation()\n",
       "          )\n",
       "          (output): VideoMAEOutput(\n",
       "            (dense): Linear(in_features=3072, out_features=768, bias=True)\n",
       "            (dropout): Dropout(p=0.0, inplace=False)\n",
       "          )\n",
       "          (layernorm_before): LayerNorm((768,), eps=1e-12, elementwise_affine=True)\n",
       "          (layernorm_after): LayerNorm((768,), eps=1e-12, elementwise_affine=True)\n",
       "        )\n",
       "      )\n",
       "    )\n",
       "    (layernorm): LayerNorm((768,), eps=1e-12, elementwise_affine=True)\n",
       "  )\n",
       "  (classifier): Linear(in_features=768, out_features=12, bias=True)\n",
       ")"
      ]
     },
     "metadata": {},
     "output_type": "display_data"
    }
   ],
   "source": [
    "scan_and_convert_directory('/content/videos/val')"
   ]
  }
 ],
 "metadata": {
  "kernelspec": {
   "display_name": "dl_tech",
   "language": "python",
   "name": "python3"
  },
  "language_info": {
   "codemirror_mode": {
    "name": "ipython",
    "version": 3
   },
   "file_extension": ".py",
   "mimetype": "text/x-python",
   "name": "python",
   "nbconvert_exporter": "python",
   "pygments_lexer": "ipython3",
   "version": "3.11.6"
  }
 },
 "nbformat": 4,
 "nbformat_minor": 2
}
